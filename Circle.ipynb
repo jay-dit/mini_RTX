{
 "cells": [
  {
   "cell_type": "code",
   "execution_count": 1,
   "metadata": {},
   "outputs": [],
   "source": [
    "import numpy as np\n",
    "import time"
   ]
  },
  {
   "cell_type": "markdown",
   "metadata": {},
   "source": [
    "## Отдельный класс для сферы\n"
   ]
  },
  {
   "cell_type": "code",
   "execution_count": 2,
   "metadata": {},
   "outputs": [],
   "source": [
    "class Sphere:\n",
    "    def __init__(self, x, y, z,R):\n",
    "        self.x2 = x\n",
    "        self.y2 = y\n",
    "        self.z2 = z\n",
    "        self.R = R"
   ]
  },
  {
   "cell_type": "markdown",
   "metadata": {},
   "source": [
    "## Класс лучей"
   ]
  },
  {
   "cell_type": "code",
   "execution_count": 3,
   "metadata": {},
   "outputs": [],
   "source": [
    "class Vector:    \n",
    "    def __init__(self, x0, y0, z0, x1, y1, z1):\n",
    "        self.x0 = x0\n",
    "        self.x1 = x1\n",
    "        self.y0 = y0\n",
    "        self.y1 = y1\n",
    "        self.z0 = z0\n",
    "        self.z1 = z1\n",
    "        self.color = 1"
   ]
  },
  {
   "cell_type": "markdown",
   "metadata": {},
   "source": [
    "## Класс наблюдателя"
   ]
  },
  {
   "cell_type": "code",
   "execution_count": 4,
   "metadata": {},
   "outputs": [],
   "source": [
    "class Camera:\n",
    "    def __init__(self):\n",
    "        self.w_dots = 300\n",
    "        self.h_dots = 300\n",
    "        self.width = 6\n",
    "        self.height = 6\n",
    "        self.center = [10,0,0]\n",
    "        self.camera_coor = [self.center, [self.center[0]+6, self.center[1], self.center[2]]]\n",
    "        "
   ]
  },
  {
   "cell_type": "markdown",
   "metadata": {},
   "source": [
    "## Генерация лучей"
   ]
  },
  {
   "cell_type": "code",
   "execution_count": 5,
   "metadata": {},
   "outputs": [],
   "source": [
    "def generating_vectors(camera):\n",
    "    max_y = max(camera.center[1]-camera.width/2,camera.center[1]+camera.width/2)\n",
    "    min_y = min(camera.center[1]-camera.width/2,camera.center[1]+camera.width/2)\n",
    "    max_z = max(camera.center[2]-camera.height/2,camera.center[2]+camera.height/2)\n",
    "    min_z = min(camera.center[2]-camera.height/2,camera.center[2]+camera.height/2)\n",
    "    dots_y = np.linspace(min_y,max_y,num = camera.w_dots)\n",
    "    dots_z = np.linspace(min_z,max_z,num = camera.h_dots)\n",
    "    list_of_v = []\n",
    "    for i in dots_y:\n",
    "        for j in dots_z:\n",
    "            list_of_v.append(Vector(camera.camera_coor[1][0],camera.camera_coor[1][1],camera.camera_coor[1][2],\n",
    "                                    camera.center[0],i,j))\n",
    "    return list_of_v  \n",
    "\n",
    "main_camera = Camera()\n",
    "vect = generating_vectors(main_camera)\n",
    "sp = Sphere(0,0,0,3)"
   ]
  },
  {
   "cell_type": "markdown",
   "metadata": {},
   "source": [
    "Плоскость проекции и камера "
   ]
  },
  {
   "cell_type": "code",
   "execution_count": 6,
   "metadata": {},
   "outputs": [
    {
     "data": {
      "text/plain": [
       "<mpl_toolkits.mplot3d.art3d.Path3DCollection at 0x2a117413e50>"
      ]
     },
     "execution_count": 6,
     "metadata": {},
     "output_type": "execute_result"
    },
    {
     "data": {
      "image/png": "[encoded data removed]",
      "text/plain": [
       "<Figure size 432x288 with 1 Axes>"
      ]
     },
     "metadata": {
      "needs_background": "light"
     },
     "output_type": "display_data"
    }
   ],
   "source": [
    "import matplotlib.pyplot as plt\n",
    "from mpl_toolkits.mplot3d import Axes3D\n",
    "x = [vect[1].x0]\n",
    "y = [vect[1].y0]\n",
    "z = [vect[1].z0]\n",
    "for i in vect:\n",
    "    x.append(i.x1)\n",
    "    y.append(i.y1)\n",
    "    z.append(i.z1)\n",
    "\n",
    "fig = plt.figure()\n",
    "ax = fig.add_subplot(111, projection='3d')\n",
    "ax.scatter(x, y, z)"
   ]
  },
  {
   "cell_type": "markdown",
   "metadata": {},
   "source": [
    "## Расстояние между двумя точками"
   ]
  },
  {
   "cell_type": "code",
   "execution_count": 7,
   "metadata": {},
   "outputs": [],
   "source": [
    "def distance(x1, y1, z1, x2, y2, z2):\n",
    "    return ((x1-x2)**2+(y1-y2)**2+(z1-z2)**2)**(0.5)"
   ]
  },
  {
   "cell_type": "markdown",
   "metadata": {},
   "source": [
    "### Магия"
   ]
  },
  {
   "cell_type": "code",
   "execution_count": 8,
   "metadata": {},
   "outputs": [
    {
     "name": "stdout",
     "output_type": "stream",
     "text": [
      "0% --time 0.0030012130737304688--\n",
      "1% --time 0.0010008811950683594--\n",
      "2% --time 0.0010001659393310547--\n",
      "3% --time 0.002000093460083008--\n",
      "4% --time 0.002000570297241211--\n",
      "5% --time 0.0019998550415039062--\n",
      "6% --time 0.0012288093566894531--\n",
      "7% --time 0.002000093460083008--\n",
      "8% --time 0.0019998550415039062--\n",
      "9% --time 0.0010001659393310547--\n",
      "10% --time 0.002000093460083008--\n",
      "11% --time 0.0020003318786621094--\n",
      "12% --time 0.0019998550415039062--\n",
      "13% --time 0.0020008087158203125--\n",
      "14% --time 0.002001523971557617--\n",
      "15% --time 0.0020008087158203125--\n",
      "16% --time 0.0020003318786621094--\n",
      "17% --time 0.002001047134399414--\n",
      "18% --time 0.0019998550415039062--\n",
      "19% --time 0.002000570297241211--\n",
      "20% --time 0.0020008087158203125--\n",
      "21% --time 0.002000570297241211--\n",
      "22% --time 0.0010004043579101562--\n",
      "23% --time 0.0020008087158203125--\n",
      "24% --time 0.002000570297241211--\n",
      "25% --time 0.0020003318786621094--\n",
      "26% --time 0.0009996891021728516--\n",
      "27% --time 0.0010001659393310547--\n",
      "28% --time 0.0010004043579101562--\n",
      "29% --time 0.0019996166229248047--\n",
      "30% --time 0.0009999275207519531--\n",
      "31% --time 0.0020003318786621094--\n",
      "32% --time 0.0010001659393310547--\n",
      "33% --time 0.0009989738464355469--\n",
      "34% --time 0.002000093460083008--\n",
      "35% --time 0.0020003318786621094--\n",
      "36% --time 0.0020012855529785156--\n",
      "37% --time 0.0019998550415039062--\n",
      "38% --time 0.0020003318786621094--\n",
      "39% --time 0.0010004043579101562--\n",
      "40% --time 0.0020003318786621094--\n",
      "41% --time 0.002000093460083008--\n",
      "42% --time 0.002000093460083008--\n",
      "43% --time 0.002000570297241211--\n",
      "44% --time 0.0020008087158203125--\n",
      "45% --time 0.0010001659393310547--\n",
      "46% --time 0.0010004043579101562--\n",
      "47% --time 0.0010001659393310547--\n",
      "48% --time 0.002000570297241211--\n",
      "49% --time 0.0020003318786621094--\n",
      "50% --time 0.0020003318786621094--\n",
      "51% --time 0.0010001659393310547--\n",
      "52% --time 0.002000570297241211--\n",
      "53% --time 0.002000570297241211--\n",
      "54% --time 0.0010004043579101562--\n",
      "55% --time 0.0010001659393310547--\n",
      "56% --time 0.002000570297241211--\n",
      "57% --time 0.002000570297241211--\n",
      "58% --time 0.002000570297241211--\n",
      "59% --time 0.0020003318786621094--\n",
      "60% --time 0.0019998550415039062--\n",
      "61% --time 0.002000093460083008--\n",
      "62% --time 0.002001047134399414--\n",
      "63% --time 0.002000093460083008--\n",
      "64% --time 0.002001047134399414--\n",
      "65% --time 0.0010001659393310547--\n",
      "66% --time 0.002000093460083008--\n",
      "67% --time 0.0020008087158203125--\n",
      "68% --time 0.0020003318786621094--\n",
      "69% --time 0.0020003318786621094--\n",
      "70% --time 0.0010004043579101562--\n",
      "71% --time 0.0020012855529785156--\n",
      "72% --time 0.0020003318786621094--\n",
      "73% --time 0.002001047134399414--\n",
      "74% --time 0.0020008087158203125--\n",
      "75% --time 0.0020008087158203125--\n",
      "76% --time 0.0019998550415039062--\n",
      "77% --time 0.002000570297241211--\n",
      "78% --time 0.002000570297241211--\n",
      "79% --time 0.0019998550415039062--\n",
      "80% --time 0.0020003318786621094--\n",
      "81% --time 0.002000093460083008--\n",
      "82% --time 0.0020003318786621094--\n",
      "83% --time 0.0010004043579101562--\n",
      "84% --time 0.0009999275207519531--\n",
      "85% --time 0.0019998550415039062--\n",
      "86% --time 0.0020003318786621094--\n",
      "87% --time 0.0019998550415039062--\n",
      "88% --time 0.0009999275207519531--\n",
      "89% --time 0.002001047134399414--\n",
      "90% --time 0.0020003318786621094--\n",
      "91% --time 0.002000570297241211--\n",
      "92% --time 0.0020003318786621094--\n",
      "93% --time 0.002000570297241211--\n",
      "94% --time 0.00099945068359375--\n",
      "95% --time 0.0019996166229248047--\n",
      "96% --time 0.0010001659393310547--\n",
      "97% --time 0.0019998550415039062--\n",
      "98% --time 0.0020003318786621094--\n",
      "99% --time 0.0010004043579101562--\n"
     ]
    }
   ],
   "source": [
    "linsp = np.linspace(3.1, -1, 410)\n",
    "counter = -1\n",
    "for i,v in enumerate(vect):\n",
    "    t1 = time.time()\n",
    "    \n",
    "    for x in linsp:\n",
    "        y = ((x - v.x0)*(v.y1 - v.y0))/(v.x1 - v.x0) + v.y0\n",
    "        z = ((x - v.x0)*(v.z1 - v.z0))/(v.x1 - v.x0) + v.z0\n",
    "        if sp.R >= distance(x,y,z,sp.x2, sp.y2, sp.z2):\n",
    "            v.color = distance(main_camera.camera_coor[1][0],main_camera.camera_coor[1][1],main_camera.camera_coor[1][2],\n",
    "                              x,y,z)\n",
    "            break\n",
    "    \n",
    "    \n",
    "    h__h = int(((i/len(vect))*100)//1)\n",
    "    if counter != h__h:\n",
    "        t2 = time.time()\n",
    "        counter = h__h\n",
    "        print('{}% --time {}--'.format(counter, t2-t1))"
   ]
  },
  {
   "cell_type": "code",
   "execution_count": 11,
   "metadata": {},
   "outputs": [
    {
     "name": "stderr",
     "output_type": "stream",
     "text": [
      "ERROR: Could not find a version that satisfies the requirement random (from versions: none)\n",
      "ERROR: No matching distribution found for random\n"
     ]
    }
   ],
   "source": [
    "!pip install random"
   ]
  },
  {
   "cell_type": "code",
   "execution_count": 12,
   "metadata": {},
   "outputs": [
    {
     "name": "stdout",
     "output_type": "stream",
     "text": [
      "pygame 2.1.2 (SDL 2.0.18, Python 3.9.12)\n",
      "Hello from the pygame community. https://www.pygame.org/contribute.html\n"
     ]
    }
   ],
   "source": [
    "# Pygame шаблон - скелет для нового проекта Pygame\n",
    "import pygame\n",
    "import random\n",
    "\n",
    "WIDTH = main_camera.w_dots\n",
    "HEIGHT = main_camera.h_dots\n",
    "FPS = 30\n",
    "\n",
    "\n",
    "\n",
    "pygame.init()\n",
    "pygame.mixer.init()\n",
    "screen = pygame.display.set_mode((WIDTH, HEIGHT))\n",
    "pygame.display.set_caption(\"My Game\")\n",
    "clock = pygame.time.Clock()\n",
    "\n",
    "\n",
    "running = True\n",
    "while running:\n",
    "    clock.tick(FPS)\n",
    "    for event in pygame.event.get():\n",
    "        if event.type == pygame.QUIT:\n",
    "            running = False\n",
    "    screen.fill((0,0,0))\n",
    "    for i in range(main_camera.w_dots):\n",
    "        for k, v in enumerate(vect[i*main_camera.h_dots:(i+1)*main_camera.h_dots]):\n",
    "            if v.color == 1:\n",
    "                screen.set_at((i,k), (0,0,0))\n",
    "            else:\n",
    "                WHITE = ((1-(v.color-13)/(2.7))*250)//1\n",
    "                screen.set_at((i,k), (WHITE,WHITE,WHITE))\n",
    "    pygame.display.flip()\n",
    "\n",
    "pygame.image.save(screen, '1.png')\n",
    "pygame.quit()\n"
   ]
  },
  {
   "cell_type": "code",
   "execution_count": 13,
   "metadata": {},
   "outputs": [],
   "source": [
    "from PIL import *"
   ]
  },
  {
   "cell_type": "code",
   "execution_count": 14,
   "metadata": {},
   "outputs": [],
   "source": [
    "main_camera = Camera()\n",
    "vect = generating_vectors(main_camera)"
   ]
  },
  {
   "cell_type": "code",
   "execution_count": 15,
   "metadata": {},
   "outputs": [],
   "source": [
    "img = Image.open(\"1.png\")\n",
    "for i in range(main_camera.w_dots):\n",
    "    for k, v in enumerate(vect[i*main_camera.h_dots:(i+1)*main_camera.h_dots]):\n",
    "        if img.getpixel((i,k))[0] == 0:\n",
    "            v.color = 1\n",
    "        else:\n",
    "            v.color = 13+((1-(img.getpixel((i,k))[0]/250))*2.7)"
   ]
  },
  {
   "cell_type": "code",
   "execution_count": 16,
   "metadata": {},
   "outputs": [],
   "source": [
    "dict_of_dots = {'x':[], 'y': [], 'z':[]}\n",
    "for v in vect:\n",
    "    if v.color != 1:\n",
    "        cos_x = (v.x1-v.x0)/distance(v.x0,v.y0,v.z0,v.x1,v.y1,v.z1)\n",
    "        cos_y = (v.y1-v.y0)/distance(v.x0,v.y0,v.z0,v.x1,v.y1,v.z1)\n",
    "        cos_z = (v.z1-v.z0)/distance(v.x0,v.y0,v.z0,v.x1,v.y1,v.z1)\n",
    "\n",
    "        vec_x = cos_x*v.color + main_camera.camera_coor[1][0]\n",
    "        vec_y = cos_y*v.color + main_camera.camera_coor[1][1]\n",
    "        vec_z = cos_z*v.color + main_camera.camera_coor[1][2]\n",
    "\n",
    "        dict_of_dots['x'].append(vec_x)\n",
    "        dict_of_dots['y'].append(vec_y)\n",
    "        dict_of_dots['z'].append(vec_z)\n"
   ]
  },
  {
   "cell_type": "code",
   "execution_count": 17,
   "metadata": {},
   "outputs": [],
   "source": [
    "import pandas as pd\n",
    "\n",
    "df = pd.DataFrame(dict_of_dots)\n",
    "df.to_csv('Circle.csv',index = False, sep =';')"
   ]
  },
  {
   "cell_type": "code",
   "execution_count": null,
   "metadata": {},
   "outputs": [],
   "source": []
  }
 ],
 "metadata": {
  "kernelspec": {
   "display_name": "Python 3 (ipykernel)",
   "language": "python",
   "name": "python3"
  },
  "language_info": {
   "codemirror_mode": {
    "name": "ipython",
    "version": 3
   },
   "file_extension": ".py",
   "mimetype": "text/x-python",
   "name": "python",
   "nbconvert_exporter": "python",
   "pygments_lexer": "ipython3",
   "version": "3.9.12"
  },
  "vscode": {
   "interpreter": {
    "hash": "9541379bb356aa4fc1ec3544f2937b6126d29cb202e5859f802bbe5177f51984"
   }
  },
  "widgets": {
   "application/vnd.jupyter.widget-state+json": {
    "state": {},
    "version_major": 2,
    "version_minor": 0
   }
  }
 },
 "nbformat": 4,
 "nbformat_minor": 4
}
